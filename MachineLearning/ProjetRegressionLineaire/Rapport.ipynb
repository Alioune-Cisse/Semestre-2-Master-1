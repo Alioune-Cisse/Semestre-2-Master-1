{
 "cells": [
  {
   "cell_type": "markdown",
   "metadata": {},
   "source": [
    "## Regression linéaire à une seule variable"
   ]
  },
  {
   "cell_type": "markdown",
   "metadata": {},
   "source": [
    "##### résultat fonction computeCost(): J=32.07 si theta=np.array([0.0, 0.0]) et J=54.24 si theta=np.array([-1, 2])"
   ]
  },
  {
   "cell_type": "markdown",
   "metadata": {},
   "source": [
    "##### resultat fonction gradientDescent(): theta=[-3.6303, 1.1664] si iterations=1500 et alpha=0.01"
   ]
  },
  {
   "cell_type": "markdown",
   "metadata": {},
   "source": [
    "##### prédiction_profit=4519.77 si population=35000 et prédiction_profit=45342.45 si population=70000"
   ]
  },
  {
   "cell_type": "markdown",
   "metadata": {},
   "source": [
    "## Partie optionnelle"
   ]
  },
  {
   "cell_type": "markdown",
   "metadata": {},
   "source": [
    "##### résultat fonction computeCostAbs(): J=5.96 si theta=np.array([0,0]) et J=9.61 si theta=np.array([-1,2])"
   ]
  },
  {
   "cell_type": "markdown",
   "metadata": {},
   "source": [
    "##### résultat fonction gradientDescentAbs(): theta=[-3.6303, 1.1664] si iterations=1500 et n=0.01"
   ]
  },
  {
   "cell_type": "markdown",
   "metadata": {},
   "source": [
    "##### prédiction_profit_abs=4519.77 si population=35000 et prédiction_profit=45342.45 si population=70000"
   ]
  },
  {
   "cell_type": "markdown",
   "metadata": {},
   "source": [
    "## Regression linéaire avec plusieurs variables"
   ]
  },
  {
   "cell_type": "markdown",
   "metadata": {},
   "source": [
    "##### résultat fonction featureNormalize(): mu=[2000.68085106,3.17021277] et sigma=[7.86202619e+02,7.52842809e-01]"
   ]
  },
  {
   "cell_type": "markdown",
   "metadata": {},
   "source": [
    "##### résultat fonnction computeCostMulti(): J=65591548106.46 si theta=np.array([0,0,0]) et J=65591676993.35 si theta=np.array([-1,2,0])"
   ]
  },
  {
   "cell_type": "markdown",
   "metadata": {},
   "source": [
    "##### résultat fonction gradientDescentMulti(): theta=np.array([340412.5630,109370.0567,-6500.6151])"
   ]
  },
  {
   "cell_type": "markdown",
   "metadata": {},
   "source": [
    "##### exercice du taux d'apprentissage: meilleur learning rate trouvé: alpha=0.01"
   ]
  },
  {
   "cell_type": "markdown",
   "metadata": {},
   "source": [
    "##### résultat fonction predict(): predict_prix=293081 si superficie=1650 et pièces=3"
   ]
  },
  {
   "cell_type": "markdown",
   "metadata": {},
   "source": [
    "## Normal Equation"
   ]
  },
  {
   "cell_type": "markdown",
   "metadata": {},
   "source": [
    "##### résultat fonction normalEqn(): theta=array([89597.90954361,139.21067402,-8738.01911255])"
   ]
  },
  {
   "cell_type": "markdown",
   "metadata": {},
   "source": [
    "##### résultat fonction predictnorm(): predict_prix=293081 si superficie=1650 et pièces=3"
   ]
  },
  {
   "cell_type": "markdown",
   "metadata": {},
   "source": [
    "## Regression linéaire avec des données trouvées"
   ]
  },
  {
   "cell_type": "markdown",
   "metadata": {},
   "source": [
    "##### fichier utilisé: 50_startups.csv"
   ]
  },
  {
   "cell_type": "markdown",
   "metadata": {},
   "source": [
    "##### ['New York', 'Florida', 'California'] remplacés par respectivement par [0, 1, 2]"
   ]
  },
  {
   "cell_type": "markdown",
   "metadata": {},
   "source": [
    "##### résultat fonction featureNormalize(): mu=[7.37216156e+04,1.21344640e+05,2.11025098e+05,1.00000000e+00] et sigma=[4.59022565e+04,2.80178028e+04,1.22290311e+05,8.32993128e-01]"
   ]
  },
  {
   "cell_type": "markdown",
   "metadata": {},
   "source": [
    "##### résultat fonction computeCostMulti(): J=7069279992.02 si theta=np.ones(5) et J=7069463875.25 si theta=np.zeros(5)"
   ]
  },
  {
   "cell_type": "markdown",
   "metadata": {},
   "source": [
    "##### résultat fonction gradientDescentMulti(): theta=[112012.6074, 36377.8669, -537.8975]"
   ]
  },
  {
   "cell_type": "markdown",
   "metadata": {},
   "source": [
    "##### exercice du taux d'apprentissage: meilleur learning rate trouvé: alpha=0.003"
   ]
  },
  {
   "cell_type": "markdown",
   "metadata": {},
   "source": [
    "##### résultat fonction predict(): predict_profit=149935.987 si R&D_Spend=165000; Administration=132000; Marketing_Spend = 456789; and State='New York'"
   ]
  }
 ],
 "metadata": {
  "kernelspec": {
   "display_name": "Python 3",
   "language": "python",
   "name": "python3"
  },
  "language_info": {
   "codemirror_mode": {
    "name": "ipython",
    "version": 3
   },
   "file_extension": ".py",
   "mimetype": "text/x-python",
   "name": "python",
   "nbconvert_exporter": "python",
   "pygments_lexer": "ipython3",
   "version": "3.7.4"
  }
 },
 "nbformat": 4,
 "nbformat_minor": 4
}
