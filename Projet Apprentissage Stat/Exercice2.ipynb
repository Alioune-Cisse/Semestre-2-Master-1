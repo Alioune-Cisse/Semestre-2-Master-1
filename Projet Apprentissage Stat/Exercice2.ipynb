{
 "cells": [
  {
   "cell_type": "code",
   "execution_count": 1,
   "metadata": {},
   "outputs": [],
   "source": [
    "#Charger les packages\n",
    "from sklearn import datasets\n",
    "from sklearn import linear_model\n",
    "from sklearn.model_selection import train_test_split, cross_val_score, validation_curve, GridSearchCV\n",
    "from sklearn.metrics import mean_squared_error\n",
    "import numpy as np\n",
    "import pandas as pd\n",
    "import matplotlib.pyplot as plt"
   ]
  },
  {
   "cell_type": "code",
   "execution_count": 2,
   "metadata": {},
   "outputs": [],
   "source": [
    "#Récupérer les données de Boston dans les variables X et y\n",
    "(X, y) = datasets.load_boston(return_X_y=True)\n",
    "columns = datasets.load_boston().feature_names"
   ]
  },
  {
   "cell_type": "code",
   "execution_count": 3,
   "metadata": {},
   "outputs": [],
   "source": [
    "#Ajouter la colonne p+1 à la matrice X\n",
    "X = np.c_[X, np.ones(X.shape[0])]"
   ]
  },
  {
   "cell_type": "code",
   "execution_count": 4,
   "metadata": {},
   "outputs": [],
   "source": [
    "#Diviser notre jeu de données en données d'entrainement et données de test\n",
    "#X_train, X_test, y_train, y_test = train_test_split(X, y, test_size=0.2) "
   ]
  },
  {
   "cell_type": "markdown",
   "metadata": {},
   "source": [
    "### 1. Notre fonction qui renvoie l'EMCO"
   ]
  },
  {
   "cell_type": "code",
   "execution_count": 5,
   "metadata": {},
   "outputs": [],
   "source": [
    "def regression(X, y):\n",
    "    \n",
    "    #(X'X)^-1\n",
    "    partie1 = np.linalg.pinv(np.dot(np.transpose(X), X))\n",
    "    \n",
    "    #X'y\n",
    "    partie2 = np.dot(np.transpose(X), y)\n",
    "    \n",
    "    #Combinaison [(X'X)^-1(X'y)]\n",
    "    emco = np.dot(partie1, partie2)\n",
    "    \n",
    "    #Alpha et beta\n",
    "    alpha_chap = emco[:-1]\n",
    "    beta_chap = emco[-1]\n",
    "    \n",
    "    return (alpha_chap, beta_chap)"
   ]
  },
  {
   "cell_type": "code",
   "execution_count": 6,
   "metadata": {},
   "outputs": [],
   "source": [
    "alpha_chapeau, beta_chapeau = regression(X, y)"
   ]
  },
  {
   "cell_type": "markdown",
   "metadata": {},
   "source": [
    "### Comparaison avec scikitlearn"
   ]
  },
  {
   "cell_type": "code",
   "execution_count": 7,
   "metadata": {},
   "outputs": [
    {
     "name": "stdout",
     "output_type": "stream",
     "text": [
      "alpha chapeau : [-1.08011358e-01  4.64204584e-02  2.05586264e-02  2.68673382e+00\n",
      " -1.77666112e+01  3.80986521e+00  6.92224640e-04 -1.47556685e+00\n",
      "  3.06049479e-01 -1.23345939e-02 -9.52747232e-01  9.31168327e-03\n",
      " -5.24758378e-01]\n",
      "-----------------------------------------------------------------------\n",
      "\n",
      "Coef_ : [-1.08011358e-01  4.64204584e-02  2.05586264e-02  2.68673382e+00\n",
      " -1.77666112e+01  3.80986521e+00  6.92224640e-04 -1.47556685e+00\n",
      "  3.06049479e-01 -1.23345939e-02 -9.52747232e-01  9.31168327e-03\n",
      " -5.24758378e-01  0.00000000e+00]\n",
      "-----------------------------------------------------------------------\n",
      "\n",
      "beta chapeau : 36.45948838510867\n",
      "-----------------------------------------------------------------------\n",
      "\n",
      "Intercept_ : 36.45948838509001\n"
     ]
    }
   ],
   "source": [
    "#Créer le modèle\n",
    "model = linear_model.LinearRegression()\n",
    "model.fit(X,y)\n",
    "\n",
    "print(f'alpha chapeau : {alpha_chapeau}\\n-----------------------------------------------------------------------\\n')\n",
    "print(f'Coef_ : {model.coef_}\\n-----------------------------------------------------------------------\\n')\n",
    "print(f'beta chapeau : {beta_chapeau}\\n-----------------------------------------------------------------------\\n')\n",
    "print(f'Intercept_ : {model.intercept_}')"
   ]
  },
  {
   "cell_type": "markdown",
   "metadata": {},
   "source": [
    "## On voit que alpha_chap = model.coef_ et beta_chap = model.intercept_"
   ]
  },
  {
   "cell_type": "markdown",
   "metadata": {},
   "source": [
    "## 2. Notre fonction qui renvoie Y_chapeau"
   ]
  },
  {
   "cell_type": "code",
   "execution_count": 8,
   "metadata": {},
   "outputs": [],
   "source": [
    "def regress(X, alpha, beta):\n",
    "    return (np.dot(X[:,:-1], alpha) + beta)"
   ]
  },
  {
   "cell_type": "code",
   "execution_count": 9,
   "metadata": {},
   "outputs": [
    {
     "data": {
      "text/plain": [
       "array([30.00384338, 25.02556238, 30.56759672, 28.60703649, 27.94352423])"
      ]
     },
     "execution_count": 9,
     "metadata": {},
     "output_type": "execute_result"
    }
   ],
   "source": [
    "y_chapeau = regress(X, alpha_chapeau, beta_chapeau)\n",
    "#Afficher les 5 premières valeurs de y_chapeau pour voir\n",
    "y_chapeau[:5]"
   ]
  },
  {
   "cell_type": "markdown",
   "metadata": {},
   "source": [
    "## 3. Calcul de Epsilon_chapeau"
   ]
  },
  {
   "cell_type": "code",
   "execution_count": 10,
   "metadata": {},
   "outputs": [
    {
     "data": {
      "text/plain": [
       "11078.784577954977"
      ]
     },
     "execution_count": 10,
     "metadata": {},
     "output_type": "execute_result"
    }
   ],
   "source": [
    "def erreur(y, ychap):\n",
    "    error = np.sum([np.math.pow((y[i]-ychap[i]),2) for i in range (len(y))])\n",
    "    return error\n",
    "erreur(y, y_chapeau)"
   ]
  },
  {
   "cell_type": "markdown",
   "metadata": {},
   "source": [
    "## 4.a  Fonction ridge_regression(X, Y , lambda)"
   ]
  },
  {
   "cell_type": "code",
   "execution_count": 11,
   "metadata": {},
   "outputs": [],
   "source": [
    "def ridge_regression(X, y , lambda_):\n",
    "    \n",
    "    # (X'X + lambda*I)^-1\n",
    "    partie1 = np.linalg.pinv(np.dot(np.transpose(X), X) + np.dot(lambda_, np.eye(X.shape[1])))\n",
    "    #X'Y\n",
    "    partie2 = np.dot(np.transpose(X), y)\n",
    "    #Combinaison\n",
    "    emco = np.dot(partie1, partie2)\n",
    "    #Alpha et beta\n",
    "    alpha_chap = emco[:-1]\n",
    "    beta_chap = emco[-1]\n",
    "    \n",
    "    return (alpha_chap, beta_chap)"
   ]
  },
  {
   "cell_type": "code",
   "execution_count": 12,
   "metadata": {
    "scrolled": true
   },
   "outputs": [
    {
     "name": "stdout",
     "output_type": "stream",
     "text": [
      "alpha_chapeau : [-0.09860481  0.04825543 -0.00877533  2.65452916 -6.28879951  4.86927445\n",
      " -0.00665675 -1.16424615  0.23051293 -0.01124433 -0.63084039  0.01229636\n",
      " -0.47729433]\n",
      "-----------------------------------------------------------------------------------\n",
      "\n",
      "Coef : [-1.04595278e-01  4.74432243e-02 -8.80467889e-03  2.55239322e+00\n",
      " -1.07770146e+01  3.85400020e+00 -5.41453810e-03 -1.37265353e+00\n",
      "  2.90141589e-01 -1.29116463e-02 -8.76074394e-01  9.67327945e-03\n",
      " -5.33343225e-01  0.00000000e+00]\n",
      "-----------------------------------------------------------------------------------\n",
      "\n",
      "beta_chapeau : 15.670542705587195\n",
      "-----------------------------------------------------------------------------------\n",
      "\n",
      "Intercept : 31.597669818274046\n"
     ]
    }
   ],
   "source": [
    "alpha_chap, beta_chap = ridge_regression(X, y , lambda_=1.0)\n",
    "\n",
    "model_reg = linear_model.Ridge(alpha=1.0)\n",
    "model_reg.fit(X,y)\n",
    "\n",
    "print(f'alpha_chapeau : {alpha_chap}\\n-----------------------------------------------------------------------------------\\n')\n",
    "print(f'Coef : {model_reg.coef_}\\n-----------------------------------------------------------------------------------\\n')\n",
    "print(f'beta_chapeau : {beta_chap}\\n-----------------------------------------------------------------------------------\\n')\n",
    "print(f'Intercept : {model_reg.intercept_}')"
   ]
  },
  {
   "cell_type": "markdown",
   "metadata": {},
   "source": [
    "## 4.b l’évolution des coefficients du vecteur α en fonction de lambda"
   ]
  },
  {
   "cell_type": "code",
   "execution_count": 13,
   "metadata": {},
   "outputs": [],
   "source": [
    "lambdas = np.linspace(0.0001, 1000, 1000)\n",
    "ridge = linear_model.Ridge(normalize = False)\n",
    "coefs = []\n",
    "\n",
    "for a in lambdas:\n",
    "    ridge.set_params(alpha = a)\n",
    "    ridge.fit(X, y)\n",
    "    coefs.append(ridge.coef_)"
   ]
  },
  {
   "cell_type": "code",
   "execution_count": 14,
   "metadata": {
    "scrolled": true
   },
   "outputs": [
    {
     "data": {
      "image/png": "[encoded data removed]",
      "text/plain": [
       "<Figure size 864x360 with 1 Axes>"
      ]
     },
     "metadata": {
      "needs_background": "light"
     },
     "output_type": "display_data"
    }
   ],
   "source": [
    "plt.figure(figsize=(12, 5))\n",
    "plt.plot(lambdas, coefs)\n",
    "plt.xlabel('lambda')\n",
    "plt.ylabel('alpha')\n",
    "plt.legend(columns, loc=\"lower right\")\n",
    "plt.show()"
   ]
  },
  {
   "cell_type": "markdown",
   "metadata": {},
   "source": [
    "### Toutes les variables expliquent notre modèle sauf les variables CHAS, NOX et RM (Surtout NOX)"
   ]
  },
  {
   "cell_type": "markdown",
   "metadata": {},
   "source": [
    "## 4.c Meilleure valeur de lambda"
   ]
  },
  {
   "cell_type": "code",
   "execution_count": 15,
   "metadata": {},
   "outputs": [
    {
     "name": "stderr",
     "output_type": "stream",
     "text": [
      "C:\\Users\\lenovo\\Anaconda3\\lib\\site-packages\\sklearn\\model_selection\\_search.py:814: DeprecationWarning: The default of the `iid` parameter will change from True to False in version 0.22 and will be removed in 0.24. This will change numeric results when test-set sizes are unequal.\n",
      "  DeprecationWarning)\n"
     ]
    },
    {
     "data": {
      "text/plain": [
       "{'alpha': 140.14022612612612}"
      ]
     },
     "execution_count": 15,
     "metadata": {},
     "output_type": "execute_result"
    }
   ],
   "source": [
    "param_grid = {'alpha':lambdas}\n",
    "model = GridSearchCV(linear_model.Ridge(), param_grid, cv=50)\n",
    "model.fit(X, y)\n",
    "model.best_params_"
   ]
  },
  {
   "cell_type": "markdown",
   "metadata": {},
   "source": [
    "### Best lambda = 140.14"
   ]
  },
  {
   "cell_type": "markdown",
   "metadata": {},
   "source": [
    "### Entrainer un model Ridge avec cette valeur"
   ]
  },
  {
   "cell_type": "code",
   "execution_count": 16,
   "metadata": {},
   "outputs": [
    {
     "data": {
      "text/plain": [
       "Ridge(alpha=140.14, copy_X=True, fit_intercept=True, max_iter=None,\n",
       "      normalize=False, random_state=None, solver='auto', tol=0.001)"
      ]
     },
     "execution_count": 16,
     "metadata": {},
     "output_type": "execute_result"
    }
   ],
   "source": [
    "best_alpha = 140.14\n",
    "model = linear_model.Ridge(alpha=best_alpha)\n",
    "model.fit(X,y)"
   ]
  },
  {
   "cell_type": "markdown",
   "metadata": {},
   "source": [
    "### Erreur au sens des moindres carrés avec best lambda :"
   ]
  },
  {
   "cell_type": "code",
   "execution_count": 17,
   "metadata": {},
   "outputs": [
    {
     "data": {
      "text/plain": [
       "24.204442644770307"
      ]
     },
     "execution_count": 17,
     "metadata": {},
     "output_type": "execute_result"
    }
   ],
   "source": [
    "prediction = model.predict(X)\n",
    "mean_squared_error(y, prediction)"
   ]
  },
  {
   "cell_type": "markdown",
   "metadata": {},
   "source": [
    "## 5.a L’évolution des coefficients du vecteur α en fonction de lambda (Lasso)"
   ]
  },
  {
   "cell_type": "code",
   "execution_count": null,
   "metadata": {},
   "outputs": [],
   "source": []
  },
  {
   "cell_type": "code",
   "execution_count": 18,
   "metadata": {},
   "outputs": [
    {
     "data": {
      "image/png": "[encoded data removed]",
      "text/plain": [
       "<Figure size 864x360 with 1 Axes>"
      ]
     },
     "metadata": {
      "needs_background": "light"
     },
     "output_type": "display_data"
    }
   ],
   "source": [
    "plt.figure(figsize=(12,5))\n",
    "lambdas = np.linspace(0.0001, 50, 1000)\n",
    "coefs = []\n",
    "\n",
    "for a in lambdas:\n",
    "    lasso = linear_model.Lasso(alpha=a)\n",
    "    lasso.fit(X, y)\n",
    "    coefs.append(lasso.coef_)\n",
    "\n",
    "plt.plot(lambdas, coefs)\n",
    "plt.xlabel('lambda')\n",
    "plt.ylabel('alpha')\n",
    "plt.legend(columns, loc=\"lower right\")\n",
    "plt.show()"
   ]
  },
  {
   "cell_type": "markdown",
   "metadata": {},
   "source": [
    "### Toutes les variables expliquent a peu pres notre modèle sauf NOX "
   ]
  },
  {
   "cell_type": "markdown",
   "metadata": {},
   "source": [
    "## 5.b Meilleure valeur de lamda"
   ]
  },
  {
   "cell_type": "code",
   "execution_count": 19,
   "metadata": {
    "scrolled": true
   },
   "outputs": [
    {
     "name": "stderr",
     "output_type": "stream",
     "text": [
      "C:\\Users\\lenovo\\Anaconda3\\lib\\site-packages\\sklearn\\model_selection\\_search.py:814: DeprecationWarning: The default of the `iid` parameter will change from True to False in version 0.22 and will be removed in 0.24. This will change numeric results when test-set sizes are unequal.\n",
      "  DeprecationWarning)\n"
     ]
    },
    {
     "data": {
      "text/plain": [
       "{'alpha': 0.001}"
      ]
     },
     "execution_count": 19,
     "metadata": {},
     "output_type": "execute_result"
    }
   ],
   "source": [
    "lambdas = np.linspace(1e-3, 1e3, 1000)\n",
    "param_grid = {'alpha':lambdas}\n",
    "model = GridSearchCV(linear_model.Lasso(), param_grid, cv=50)\n",
    "model.fit(X, y)\n",
    "model.best_params_"
   ]
  },
  {
   "cell_type": "markdown",
   "metadata": {},
   "source": [
    "### best lambda = 0.001"
   ]
  },
  {
   "cell_type": "markdown",
   "metadata": {},
   "source": [
    "### Construire un model Lasso avec ce lambda"
   ]
  },
  {
   "cell_type": "code",
   "execution_count": 20,
   "metadata": {},
   "outputs": [
    {
     "data": {
      "text/plain": [
       "Lasso(alpha=0.001, copy_X=True, fit_intercept=True, max_iter=1000,\n",
       "      normalize=False, positive=False, precompute=False, random_state=None,\n",
       "      selection='cyclic', tol=0.0001, warm_start=False)"
      ]
     },
     "execution_count": 20,
     "metadata": {},
     "output_type": "execute_result"
    }
   ],
   "source": [
    "best_alpha = 0.001\n",
    "model = linear_model.Lasso(alpha=best_alpha)\n",
    "model.fit(X,y)"
   ]
  },
  {
   "cell_type": "markdown",
   "metadata": {},
   "source": [
    "### Erreur au sens des moindres carres avec ce lambda"
   ]
  },
  {
   "cell_type": "code",
   "execution_count": 21,
   "metadata": {},
   "outputs": [
    {
     "data": {
      "text/plain": [
       "21.89519775975806"
      ]
     },
     "execution_count": 21,
     "metadata": {},
     "output_type": "execute_result"
    }
   ],
   "source": [
    "prediction = model.predict(X)\n",
    "mean_squared_error(y, prediction)"
   ]
  },
  {
   "cell_type": "code",
   "execution_count": null,
   "metadata": {},
   "outputs": [],
   "source": []
  },
  {
   "cell_type": "code",
   "execution_count": null,
   "metadata": {},
   "outputs": [],
   "source": []
  }
 ],
 "metadata": {
  "kernelspec": {
   "display_name": "Python 3",
   "language": "python",
   "name": "python3"
  },
  "language_info": {
   "codemirror_mode": {
    "name": "ipython",
    "version": 3
   },
   "file_extension": ".py",
   "mimetype": "text/x-python",
   "name": "python",
   "nbconvert_exporter": "python",
   "pygments_lexer": "ipython3",
   "version": "3.7.4"
  }
 },
 "nbformat": 4,
 "nbformat_minor": 2
}
